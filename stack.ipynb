{
 "cells": [
  {
   "cell_type": "code",
   "execution_count": 1,
   "id": "a9cfb8b7",
   "metadata": {},
   "outputs": [],
   "source": [
    "class Stack:\n",
    "    def __init__(self):\n",
    "        self.container = []\n",
    "        \n",
    "    def push(self, element):\n",
    "        self.container.append(element)\n",
    "        \n",
    "    def empty(self):\n",
    "        return len(self.container) == 0\n",
    "        \n",
    "    def popStack(self):\n",
    "        if self.empty():\n",
    "            return 'Stack is empty'\n",
    "        return self.container.pop()"
   ]
  },
  {
   "cell_type": "code",
   "execution_count": 2,
   "id": "16f7630b",
   "metadata": {},
   "outputs": [
    {
     "data": {
      "text/plain": [
       "True"
      ]
     },
     "execution_count": 2,
     "metadata": {},
     "output_type": "execute_result"
    }
   ],
   "source": [
    "stack = Stack()\n",
    "stack.empty()"
   ]
  },
  {
   "cell_type": "code",
   "execution_count": 3,
   "id": "689dbca5",
   "metadata": {},
   "outputs": [
    {
     "data": {
      "text/plain": [
       "[1, 2, 3]"
      ]
     },
     "execution_count": 3,
     "metadata": {},
     "output_type": "execute_result"
    }
   ],
   "source": [
    "stack.push(1)\n",
    "stack.push(2)\n",
    "stack.push(3)\n",
    "stack.container"
   ]
  },
  {
   "cell_type": "code",
   "execution_count": 4,
   "id": "6b536975",
   "metadata": {},
   "outputs": [
    {
     "data": {
      "text/plain": [
       "3"
      ]
     },
     "execution_count": 4,
     "metadata": {},
     "output_type": "execute_result"
    }
   ],
   "source": [
    "stack.popStack()"
   ]
  },
  {
   "cell_type": "code",
   "execution_count": 5,
   "id": "cbf15fa3",
   "metadata": {},
   "outputs": [
    {
     "data": {
      "text/plain": [
       "[1, 2]"
      ]
     },
     "execution_count": 5,
     "metadata": {},
     "output_type": "execute_result"
    }
   ],
   "source": [
    "stack.container"
   ]
  },
  {
   "cell_type": "code",
   "execution_count": 6,
   "id": "6c22b272",
   "metadata": {},
   "outputs": [
    {
     "data": {
      "text/plain": [
       "False"
      ]
     },
     "execution_count": 6,
     "metadata": {},
     "output_type": "execute_result"
    }
   ],
   "source": [
    "stack.empty()"
   ]
  }
 ],
 "metadata": {
  "kernelspec": {
   "display_name": "Python 3 (ipykernel)",
   "language": "python",
   "name": "python3"
  },
  "language_info": {
   "codemirror_mode": {
    "name": "ipython",
    "version": 3
   },
   "file_extension": ".py",
   "mimetype": "text/x-python",
   "name": "python",
   "nbconvert_exporter": "python",
   "pygments_lexer": "ipython3",
   "version": "3.9.12"
  }
 },
 "nbformat": 4,
 "nbformat_minor": 5
}

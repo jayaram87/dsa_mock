{
 "cells": [
  {
   "cell_type": "code",
   "execution_count": 1,
   "id": "a9cfb8b7",
   "metadata": {},
   "outputs": [],
   "source": [
    "class Queue:\n",
    "    def __init__(self):\n",
    "        self.container = []\n",
    "        \n",
    "    def enqueue(self, element):\n",
    "        self.container.insert(0, element)\n",
    "        \n",
    "    def empty(self):\n",
    "        return len(self.container) == 0\n",
    "        \n",
    "    def dequeue(self):\n",
    "        if self.empty():\n",
    "            return 'Queue is empty'\n",
    "        return self.container.pop()"
   ]
  },
  {
   "cell_type": "code",
   "execution_count": 2,
   "id": "16f7630b",
   "metadata": {},
   "outputs": [
    {
     "data": {
      "text/plain": [
       "True"
      ]
     },
     "execution_count": 2,
     "metadata": {},
     "output_type": "execute_result"
    }
   ],
   "source": [
    "queue = Queue()\n",
    "queue.empty()"
   ]
  },
  {
   "cell_type": "code",
   "execution_count": 3,
   "id": "689dbca5",
   "metadata": {},
   "outputs": [
    {
     "data": {
      "text/plain": [
       "[3, 2, 1]"
      ]
     },
     "execution_count": 3,
     "metadata": {},
     "output_type": "execute_result"
    }
   ],
   "source": [
    "queue.enqueue(1)\n",
    "queue.enqueue(2)\n",
    "queue.enqueue(3)\n",
    "queue.container"
   ]
  },
  {
   "cell_type": "code",
   "execution_count": 4,
   "id": "6b536975",
   "metadata": {},
   "outputs": [
    {
     "data": {
      "text/plain": [
       "1"
      ]
     },
     "execution_count": 4,
     "metadata": {},
     "output_type": "execute_result"
    }
   ],
   "source": [
    "queue.dequeue()"
   ]
  },
  {
   "cell_type": "code",
   "execution_count": 5,
   "id": "cbf15fa3",
   "metadata": {},
   "outputs": [
    {
     "data": {
      "text/plain": [
       "[3, 2]"
      ]
     },
     "execution_count": 5,
     "metadata": {},
     "output_type": "execute_result"
    }
   ],
   "source": [
    "queue.container"
   ]
  },
  {
   "cell_type": "code",
   "execution_count": 6,
   "id": "6c22b272",
   "metadata": {},
   "outputs": [
    {
     "data": {
      "text/plain": [
       "False"
      ]
     },
     "execution_count": 6,
     "metadata": {},
     "output_type": "execute_result"
    }
   ],
   "source": [
    "queue.empty()"
   ]
  },
  {
   "cell_type": "code",
   "execution_count": null,
   "id": "42864e67",
   "metadata": {},
   "outputs": [],
   "source": []
  }
 ],
 "metadata": {
  "kernelspec": {
   "display_name": "Python 3 (ipykernel)",
   "language": "python",
   "name": "python3"
  },
  "language_info": {
   "codemirror_mode": {
    "name": "ipython",
    "version": 3
   },
   "file_extension": ".py",
   "mimetype": "text/x-python",
   "name": "python",
   "nbconvert_exporter": "python",
   "pygments_lexer": "ipython3",
   "version": "3.9.12"
  }
 },
 "nbformat": 4,
 "nbformat_minor": 5
}
